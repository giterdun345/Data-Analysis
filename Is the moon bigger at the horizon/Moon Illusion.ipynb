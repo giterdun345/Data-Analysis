{
 "cells": [
  {
   "cell_type": "markdown",
   "metadata": {},
   "source": [
    "# Moon Illusion \n",
    "One sample and paired t-test examples<br>\n",
    "For data science curriculum development by John Ketterer<br>\n",
    "Reference<br>\n",
    "Howell, D. C. (1999). Fundamental Statistics for the Behavioral Sciences, 4th Edition. Duxbury Press, Pacific Grove, California.\n"
   ]
  },
  {
   "cell_type": "markdown",
   "metadata": {},
   "source": [
    "Why does the moon appear to be so much larger when it is near the horizon than when it is directly overhead? This question has produced a wide variety of theories from psychologists. An important early hypothesis was put forth by Holway and Boring (1940) who suggested that the illusion was due to the fact that when the moon was on the horizon, the observer looked straight at it with eyes level, whereas when it was at its zenith, the observer had to elevate his or her eyes as well as his or her head to see it. To test this hypothesis, Kaufman and Rock (1962) devised an apparatus that allowed them to present two artificial moons, one at the horizon and one at the zenith, and to control whether the subjects elevated their eyes or kept them level to see the zenith moon. The horizon, or comparison, moon was always viewed with eyes level. Subjects were asked to adjust the variable horizon moon to match the size of the zenith moon or vice versa. For each subject the ratio of the perceived size of the horizon moon to the perceived size of the zenith moon was recorded with eyes elevated and with eyes level. A ratio of 1.00 would represent no illusion. If Holway and Boring were correct, there should be a greater illusion in the eyes-elevated condition than in the eyes-level condition.\n",
    "\n",
    "\n",
    "Holway, A. H., and Boring, E. G. (1940). The moon illusion and the angle of regard. American Journal of Psychology 53, 509-516.\n",
    "Kaufman, L., and Rock, I. (1962). The moon illusion I.  Science 136, 953-961."
   ]
  },
  {
   "cell_type": "markdown",
   "metadata": {},
   "source": [
    "<ul>\n",
    "<li>Subject\t--->\tSubject number, 1 to 10 </li>\n",
    "<li>Elevated --->\t\tPerceived ratio with eyes elevated</li>\n",
    "<li>Level --->\tPerceived ratio with eyes level</li>\n",
    "</ul>"
   ]
  },
  {
   "cell_type": "code",
   "execution_count": 1,
   "metadata": {},
   "outputs": [],
   "source": [
    "import numpy as np\n",
    "from numpy.random import seed\n",
    "import pandas as pd\n",
    "import matplotlib.pyplot as plt\n",
    "from scipy.stats import t, ttest_rel, ttest_1samp"
   ]
  },
  {
   "cell_type": "code",
   "execution_count": 2,
   "metadata": {},
   "outputs": [],
   "source": [
    "# data collected from the experiment which will be provided in the following test sections\n",
    "subject = [1, 2, 3, 4, 5, 6, 7, 8, 9, 10]\n",
    "# Subject ---> Subject number, 1 to 10\n",
    "elevated = np.array([1.65, 1, 2.03, 1.25, 1.05, 1.02, 1.67, 1.86, 1.56, 1.73])\n",
    "# Elevated ---> Perceived ratio with eyes elevated\n",
    "level = np.array([1.73, 1.06, 2.03, 1.4, 0.95, 1.13, 1.41, 1.73, 1.63, 1.56])\n",
    "# Level ---> Perceived ratio with eyes level\n"
   ]
  },
  {
   "cell_type": "markdown",
   "metadata": {},
   "source": [
    "# One sample t-test"
   ]
  },
  {
   "cell_type": "markdown",
   "metadata": {},
   "source": [
    "The following data for ten subjects are taken from Kaufman and Rock’s paper and represent the ratio of the diameter of the variable moon and the standard moon. A ratio of 1.00 would indicate no illusion; a ratio other than 1.00 would represent an illusion."
   ]
  },
  {
   "cell_type": "code",
   "execution_count": 3,
   "metadata": {},
   "outputs": [],
   "source": [
    "# given data; seperate into individual arrays\n",
    "data = dict(zip(subject, level))"
   ]
  },
  {
   "cell_type": "markdown",
   "metadata": {},
   "source": [
    "Step 1: <br>\n",
    "Write your null hypothesis statement.<br>\n",
    "H0: There is no change in perception of the size of the moon <br>\t\t\t\t\t\tµ = 1 <br>\n",
    "<br>\n",
    "Write your alternate hypothesis. This is the one you’re testing. <br>\n",
    "H1: There is a change in perception of the size of the moon. <br>\t\t\t\t\t\tµ != 1<br>\n",
    "\n",
    "Define a significance level: <br>\n",
    "alpha = 0.05 <br>\n",
    "\n",
    "Step 2:  Check for assumptions; The one sample t-test has four main assumptions:<br>\n",
    "<ul>\n",
    "<li>The dependent variable must be continuous (interval/ratio).</li>\n",
    "<li>The observations are independent of one another.</li>\n",
    "<li>The dependent variable should be approximately normally distributed.</li>\n",
    "<li>The dependent variable should not contain any outliers.</li>"
   ]
  },
  {
   "cell_type": "markdown",
   "metadata": {},
   "source": [
    "Step 3: Identify the following pieces of information you’ll need to calculate the test statistic. \n",
    "<ul>\n",
    "    <li>sample mean(x̄)</li>\n",
    "    <li>population mean(μ)</li>\n",
    "    <li>sample standard deviation(s) </li>\n",
    "    <li>Number of observations(n)</li>\n",
    "    <li>standard error (SE)</li>\n",
    "    \n",
    "</ul>\n"
   ]
  },
  {
   "cell_type": "code",
   "execution_count": 4,
   "metadata": {},
   "outputs": [],
   "source": [
    "sample_mean = level.mean()\n",
    "population_mean = 1\n",
    "sample_std = level.std(ddof = 1)\n",
    "num_observation = len(level)\n",
    "standard_error = sample_std / np.sqrt(num_observation)\n"
   ]
  },
  {
   "cell_type": "markdown",
   "metadata": {},
   "source": [
    "Step 4: Find the t score"
   ]
  },
  {
   "cell_type": "code",
   "execution_count": 5,
   "metadata": {},
   "outputs": [
    {
     "data": {
      "text/plain": [
       "4.3"
      ]
     },
     "execution_count": 5,
     "metadata": {},
     "output_type": "execute_result"
    }
   ],
   "source": [
    "# this is your calculated t value; see formula \n",
    "tscore = (sample_mean - 1) / standard_error\n",
    "round(tscore, 2)"
   ]
  },
  {
   "cell_type": "markdown",
   "metadata": {},
   "source": [
    "Step 5: Find the critical value.\n",
    "You can use \n",
    "<ol>\n",
    "    <li>Percent Point Function (PPF):<br>\n",
    "         <pre><code>Returns the observation value for the provided probability that is less than or equal to the provided probability   from the distribution.</pre></code>\n",
    "    </li>\n",
    "\n",
    "   <li>\n",
    "    T-table:You need two values to find this:<br>\n",
    "        <pre><code>1. The alpha level: given as 1%, 5%, 10%, etc.<br></pre></code>\n",
    "        <pre><code>2. The degrees of freedom, which is the number of items in the sample (n) minus 1.\n",
    "        </pre </code>\n",
    "        \n",
    "  \n",
    "</ol>"
   ]
  },
  {
   "cell_type": "code",
   "execution_count": 6,
   "metadata": {},
   "outputs": [
    {
     "name": "stdout",
     "output_type": "stream",
     "text": [
      "critical_value is 2.0875181379588663\n",
      "probability is 0.9499999999997932\n"
     ]
    }
   ],
   "source": [
    "# retrieve critical value <= probability\n",
    "critical_value = t.ppf(0.95, 9, loc = sample_mean, scale = sample_std)\n",
    "print('critical_value is', critical_value)\n",
    "# confirm with cdf\n",
    "probability = t.cdf(critical_value, 9, loc = sample_mean, scale = sample_std)\n",
    "# cdf is the inverse of ppf and will return the probability\n",
    "print('probability is', probability)"
   ]
  },
  {
   "cell_type": "markdown",
   "metadata": {},
   "source": [
    "Step 6: You can also calculate a confidence interval, create visualizations to support your evidence and/or finally compare the values from step 4 and 5 to reject the null hypothesis or fail to reject the null hypothesis.\n",
    "<br>\n"
   ]
  },
  {
   "cell_type": "code",
   "execution_count": 7,
   "metadata": {},
   "outputs": [
    {
     "data": {
      "text/plain": [
       "Ttest_1sampResult(statistic=4.297591739651884, pvalue=0.001997695334372524)"
      ]
     },
     "execution_count": 7,
     "metadata": {},
     "output_type": "execute_result"
    }
   ],
   "source": [
    "# confirm using scipy's one sample function\n",
    "ttest_1samp(level, 1)"
   ]
  },
  {
   "cell_type": "markdown",
   "metadata": {},
   "source": [
    "tscore > critical_value <br>\n",
    "We should reject the null hypothesis and conclude that the true mean ratio under these conditions isnot equal to 1.00. In fact, it is greater than 1.00, which is what we wouldexpect on the basis of our experience. (It is always comforting to see scienceconfirm what we have all known since childhood, but the results also mean that Kaufman and Rock’s experimental apparatus performs as it should.\n"
   ]
  },
  {
   "cell_type": "markdown",
   "metadata": {},
   "source": [
    "We confirmed using the simple function from scipy. This gave us the ttest and the pvalue. The pvalue v=can also be used to reject or fail to reject the null hypothesis. The smaller the p-value, the stronger the evidence that you should reject the null hypothesis. A p-value less than 0.05 (typically ≤ 0.05) is statistically significant. It indicates strong evidence against the null hypothesis, as there is less than a 5% probability the null is correct (and the results are random)."
   ]
  },
  {
   "cell_type": "markdown",
   "metadata": {},
   "source": [
    "For years, users of statistical techniques that analyze their data have been content to declare that they found a  significant difference, and then considered their work done. Many have complained and argued for some kind of statement by  the experimenter that gave an indication not only that the difference was significant, but whether it was meaningful. If we use enough subjects, we can almost always find even a meaningless difference to be significant. Enter effect size...\n",
    "<pre><code>Effect size:The difference between two populations divided by the standard deviation of either population — sometimes presented in raw score units.</pre></code>\n",
    "The effect size is a statistic that gives a meaningful indication of how large a mean is, or how different two means are.\n",
    "<br>\n",
    "We know that we have a significant difference from our data based on the comparison of the t-score and critical value, but when we report this difference, we want to be able to convince the audience that he or she cares about the effect. If the moon looks just a tiny bit larger at the horizon, that may not be that big of a deal. Recall the nature of our dependent variable. Participants looked at the moon high in the sky and adjusted a “moon” off to one side to appear to be the same size as the real moon. Then they looked at the moon just above the horizon, and made a  similar  adjustment.  If  there  were no moon illusion,  the  two  settings  would  be about the same, and their ratio would be about 1.00. But in actual fact, the settings for the horizon moon were much larger than the settings for the zenith moon, and the average ratio of these two settings was 1.463. This means that, on average, the moon on the horizon appeared to be 1.463 times larger (or 46.3% larger) than the moon at its zenith.\n",
    "<br>\n",
    "This is a huge difference—at least it appears so. (Notice that I am not referring to the measurement of the setting the participant made, but to the ratio of the sizes under the two conditions.This experiment illustrates a case wherein we can convey to the reader some-thing meaningful about the size of our effect just by reporting the mean. We don’t have to get fancy. When you tell your readers that the moon at the horizon appears nearly half again as large as the moon at its zenith, you are telling them something more than simply that the horizon moon appears significantky larger. You  are certainly telling them much more than saying that the average setting for the horizon moon was 5.23 centimeters. In  this example we have a situation where the ratios that we collect are such that we can express important information simply by telling the reader what the mean ratio was. It now makes sense here to say that “people perceive a moon on the horizon to be nearly 1.5 times as large as the apparent size of the moon at its zenith.”"
   ]
  },
  {
   "cell_type": "markdown",
   "metadata": {},
   "source": [
    "# Two sample T-test Variance Unequal"
   ]
  },
  {
   "cell_type": "markdown",
   "metadata": {},
   "source": [
    "Now we can add a little more complexity to the problem. In Kaufman and Rock’s experiment, they tested whether or not the eye perspective was an influence. For each subject, the ratio of the perceived size of the horizon moon compared to the perceived size of the zenith moon was recorded with eyes elevated and with eyes level. Will eyes being elevated compared to eyes being level effect the perception of the moon size? In this case, we need to compare the means of two groups. We have n matched pairs, the actual sample size is n (pairs) although we may have data from two different subjects they pair up as we are trying to find the difference between them."
   ]
  },
  {
   "cell_type": "code",
   "execution_count": 8,
   "metadata": {},
   "outputs": [],
   "source": [
    "# given data; seperate into individual arrays\n",
    "data = dict(zip(elevated, level))"
   ]
  },
  {
   "cell_type": "markdown",
   "metadata": {},
   "source": [
    "Step 1: <br>\n",
    "Write your null hypothesis statement.<br>\n",
    "H0: There is no change in perception of the size of the moon based on level eyes or elevated eyes. The mean difference(μd) will equal zero. <br>\t\t\t\t\t\tH0: μd = 0 <br>\n",
    "<br>\n",
    "Write your alternate hypothesis. This is the one you’re testing. <br>\n",
    "H1: There is a change in perception of the size of the moon based on level eyes or elevated eyes. The mean difference (μd) will not be equal to zero. <br>\t\t\t\t\t\tH1: μd ≠ 0<br>\n",
    "\n",
    "Define a significance level: <br>\n",
    "alpha = 0.05 <br>\n",
    "\n"
   ]
  },
  {
   "cell_type": "markdown",
   "metadata": {},
   "source": [
    "Step 2:<br>\n",
    "In a paired sample t-test, the observations are defined as the differences between two sets of values, and each assumption refers to these differences, not the original data values. The paired sample t-test has four main assumptions:\n",
    "<ul>\n",
    "<li>The dependent variable must be continuous (interval/ratio).</li>\n",
    "<li>The observations are independent of one another.</li>\n",
    "<li>The dependent variable should be approximately normally distributed.</li>\n",
    "<li>The dependent variable should not contain any outliers.</li>\n",
    "<ul/>"
   ]
  },
  {
   "cell_type": "markdown",
   "metadata": {},
   "source": [
    "Step 3: Identify the following pieces of information you’ll need to calculate the test statistic. \n",
    "Let x = level ratio, y = elevated ratio;\n",
    "<ul>\n",
    "    <li>Calculate the difference (di = yi − xi) between the two observations on each pair,\n",
    "making sure you distinguish between positive and negative differences.</li>\n",
    "    <li>difference in sample means(d)</li>\n",
    "    <li>Number of observations(n)</li>\n",
    "    <li>hypothesized mean difference(μ)</li>\n",
    "    <li>sample standard deviation of the differences(σ^) </li>\n",
    "    <li>standard error (SE)</li>\n",
    "    \n",
    "</ul>\n",
    "\n",
    "NOTE:<br>\n",
    "For this test to be valid the differences only need to be approximately normally distributed.\n",
    "Therefore, it would not be advisable to use a paired t-test where there were any extreme\n",
    "outliers.\n"
   ]
  },
  {
   "cell_type": "code",
   "execution_count": 9,
   "metadata": {},
   "outputs": [],
   "source": [
    "# numpy array's allow for broadcasting\n",
    "array_differences = np.array(level) - np.array(elevated)\n",
    "num_observation = len(level)\n",
    "difference_mean = array_differences.mean()\n",
    "hypothesized_mean = 0\n",
    "difference_std = array_differences.std(ddof = 1)\n",
    "standard_error = difference_std / np.sqrt(num_observation)\n"
   ]
  },
  {
   "cell_type": "markdown",
   "metadata": {},
   "source": [
    "Step 4: Find the t score"
   ]
  },
  {
   "cell_type": "code",
   "execution_count": 10,
   "metadata": {},
   "outputs": [
    {
     "data": {
      "text/plain": [
       "-0.44"
      ]
     },
     "execution_count": 10,
     "metadata": {},
     "output_type": "execute_result"
    }
   ],
   "source": [
    "# this is your calculated t value; see formula \n",
    "tscore = difference_mean / standard_error\n",
    "round(tscore, 2)"
   ]
  },
  {
   "cell_type": "markdown",
   "metadata": {},
   "source": [
    "Step 5: Find the critical value.\n",
    "You can use \n",
    "<ol>\n",
    "    <li>Percent Point Function (PPF):<br>\n",
    "         <pre><code>Returns the observation value for the provided probability that is less than or equal to the provided probability   from the distribution.</pre></code>\n",
    "    </li>\n",
    "\n",
    "   <li>\n",
    "    T-table:You need two values to find this:<br>\n",
    "        <pre><code>1. The alpha level: given as 1%, 5%, 10%, etc.<br></pre></code>\n",
    "        <pre><code>2. The degrees of freedom, which is the number of items in the sample (n) minus 1.\n",
    "        </pre </code>\n",
    "        \n",
    "  \n",
    "</ol>"
   ]
  },
  {
   "cell_type": "code",
   "execution_count": 11,
   "metadata": {},
   "outputs": [
    {
     "name": "stdout",
     "output_type": "stream",
     "text": [
      "critical_value is 1.8331129326536335\n"
     ]
    }
   ],
   "source": [
    "# retrieve critical value <= probability\n",
    "critical_value = t.ppf(0.95, 9)\n",
    "print('critical_value is', critical_value)\n"
   ]
  },
  {
   "cell_type": "markdown",
   "metadata": {},
   "source": [
    "Step 6: You can also calculate a confidence interval, create visualizations to support your evidence and/or finally compare the values from step 4 and 5 to reject the null hypothesis or fail to reject the null hypothesis.\n",
    "<br>"
   ]
  },
  {
   "cell_type": "markdown",
   "metadata": {},
   "source": [
    "tscore < critical_value <br>\n",
    "We should fail to reject the null hypothesis and conclude that the position of the eyes do not significantly effect the perception of the moon. \n"
   ]
  },
  {
   "cell_type": "code",
   "execution_count": 12,
   "metadata": {},
   "outputs": [
    {
     "data": {
      "text/plain": [
       "(-0.43808582711518157, 0.6716502377784621)"
      ]
     },
     "execution_count": 12,
     "metadata": {},
     "output_type": "execute_result"
    }
   ],
   "source": [
    "ttest,pval = ttest_rel(level, elevated)\n",
    "ttest, pval"
   ]
  },
  {
   "cell_type": "markdown",
   "metadata": {},
   "source": [
    "A p-value higher than 0.05 (> 0.05) is not statistically significant and indicates strong evidence for the null hypothesis. This means we retain the null hypothesis and reject the alternative hypothesis. You should note that you cannot accept the null hypothesis, we can only reject the null or fail to reject it.\n",
    "A statistically significant result cannot prove that a research hypothesis is correct (as this implies 100% certainty).\n",
    "\n",
    "Instead, we may state our results “provide support for” or “give evidence for” our research hypothesis (as there is still a slight probability that the results occurred by chance and the null hypothesis was incorrect – e.g. less than 5%)."
   ]
  },
  {
   "cell_type": "markdown",
   "metadata": {},
   "source": [
    "It would be\n",
    "useful to calculate a confidence interval for the mean difference to tell us within what limits\n",
    "the true difference is likely to lie. A 95% confidence interval for the true mean difference is the difference of means plus/ minus the margin of error.<br>\n",
    "The margin of error is the standard error times the t-score:\n",
    "\\begin{equation}\n",
    "\\frac{std}{\\sqrt{n}}\n",
    "\\end{equation}\n",
    "<br>\n",
    "Therefore to put it all together we will subtract to get the lower bound of the interval and add to get the higher bound of the interval:\n",
    "<br><br>\n",
    "\\begin{equation}\n",
    " (d - t * \\frac{std}{\\sqrt{n}}),   (d + t * \\frac{std}{\\sqrt{n}})                        \n",
    "\\end{equation}"
   ]
  },
  {
   "cell_type": "code",
   "execution_count": 13,
   "metadata": {},
   "outputs": [
    {
     "data": {
      "text/plain": [
       "(0.0, -0.04)"
      ]
     },
     "execution_count": 13,
     "metadata": {},
     "output_type": "execute_result"
    }
   ],
   "source": [
    "# confidence interval for the moon illusion eyes level/ elevated experiment\n",
    "lower_bound = difference_mean - (tscore * standard_error)\n",
    "upper_bound = difference_mean + (tscore * standard_error)\n",
    "lower_bound, round(upper_bound, 2)"
   ]
  },
  {
   "cell_type": "markdown",
   "metadata": {},
   "source": [
    "We have a mean difference of -0.02. This confirms that, the difference in scores is statistically insignificant, so we can see that the interval of the diiference of means is actually relatively small. We can be 95% sure that the true mean difference lies somewhere between just under zero point and just over -0.04. You might say that the elevation of the eyes makes the moon appear slightly smaller but the appearence is not effected in a major or significant way. "
   ]
  },
  {
   "cell_type": "markdown",
   "metadata": {},
   "source": [
    "In the next notebook we will talk more about effect size and how to deliver the magnitude of the reults to your audience."
   ]
  }
 ],
 "metadata": {
  "kernelspec": {
   "display_name": "Python 3",
   "language": "python",
   "name": "python3"
  },
  "language_info": {
   "codemirror_mode": {
    "name": "ipython",
    "version": 3
   },
   "file_extension": ".py",
   "mimetype": "text/x-python",
   "name": "python",
   "nbconvert_exporter": "python",
   "pygments_lexer": "ipython3",
   "version": "3.7.3"
  }
 },
 "nbformat": 4,
 "nbformat_minor": 2
}
